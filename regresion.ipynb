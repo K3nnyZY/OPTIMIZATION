{
 "cells": [
  {
   "cell_type": "code",
   "execution_count": 1,
   "metadata": {},
   "outputs": [],
   "source": [
    "import numpy as np\n",
    "import numpy.random as rnd\n",
    "import sklearn.linear_model as lm\n",
    "from sklearn.model_selection import train_test_split\n",
    "import matplotlib.pyplot as pls\n",
    "import seaborn as sns\n",
    "\n",
    "sns.set_style('darkgrid')"
   ]
  },
  {
   "cell_type": "markdown",
   "metadata": {},
   "source": [
    "# Modelo Ordinario"
   ]
  },
  {
   "cell_type": "code",
   "execution_count": 2,
   "metadata": {},
   "outputs": [],
   "source": [
    "n, m = 10, 100"
   ]
  },
  {
   "cell_type": "code",
   "execution_count": 3,
   "metadata": {},
   "outputs": [],
   "source": [
    "coef = 50*rnd.rand(n,1)\n",
    "X = 10*rnd.rand(m,n)\n",
    "e = rnd.normal(size=(m,1))\n",
    "y = X@coef + e"
   ]
  },
  {
   "cell_type": "code",
   "execution_count": 4,
   "metadata": {},
   "outputs": [],
   "source": [
    "N = 10000\n",
    "coefs = np.zeros((N,n))\n",
    "scores = []\n",
    "errors = []\n",
    "\n",
    "for k in range(N):\n",
    "    X_train, X_test, y_train, y_test = train_test_split(X,y,train_size=0.8)\n",
    "    rg = lm.LinearRegression(fit_intercept=False)\n",
    "    rg.fit(X=X_train,y=y_train)\n",
    "    coefs[k,:] = rg.coef_   \n",
    "    scores.append(rg.score(X_test,y_test))\n",
    "    errors.append((y_test - rg.predict(X_test)).T)"
   ]
  },
  {
   "cell_type": "markdown",
   "metadata": {},
   "source": [
    "# Modelo Ridge"
   ]
  },
  {
   "cell_type": "code",
   "execution_count": 5,
   "metadata": {},
   "outputs": [],
   "source": [
    "scores_ridge = []\n",
    "errors_ridge = []\n",
    "coefs_ridge = []\n",
    "\n",
    "for k in range(N):\n",
    "    X_train, X_test, y_train, y_test = train_test_split(X, y, train_size=0.8)\n",
    "    ridge = lm.Ridge(alpha=0.1, fit_intercept=True) \n",
    "    ridge.fit(X=X_train, y=y_train)\n",
    "    \n",
    "    scores_ridge.append(ridge.score(X_test, y_test))\n",
    "    errors_ridge.append((y_test - ridge.predict(X_test)).T)\n",
    "    coefs_ridge.append(ridge.coef_.ravel())\n",
    "\n",
    "U_ridge, S_ridge, V_ridge = np.linalg.svd(coefs_ridge)"
   ]
  },
  {
   "cell_type": "markdown",
   "metadata": {},
   "source": [
    "# Modelo Lasso"
   ]
  },
  {
   "cell_type": "code",
   "execution_count": 6,
   "metadata": {},
   "outputs": [],
   "source": [
    "coefs_lasso = np.zeros((N, n))\n",
    "scores_lasso = []\n",
    "errors_lasso = []\n",
    "\n",
    "for k in range(N):\n",
    "    X_train, X_test, y_train, y_test = train_test_split(X, y, train_size=0.8)\n",
    "    lasso = lm.Lasso(alpha=0.2, fit_intercept=True)\n",
    "    lasso.fit(X=X_train, y=y_train)\n",
    "    coefs_lasso[k, :] = lasso.coef_\n",
    "    scores_lasso.append(lasso.score(X_test, y_test))\n",
    "    errors_lasso.append((y_test - lasso.predict(X_test)).T)\n",
    "\n",
    "U_lasso, S_lasso, V_lasso = np.linalg.svd(coefs_lasso)"
   ]
  }
 ],
 "metadata": {
  "kernelspec": {
   "display_name": "Python 3",
   "language": "python",
   "name": "python3"
  },
  "language_info": {
   "codemirror_mode": {
    "name": "ipython",
    "version": 3
   },
   "file_extension": ".py",
   "mimetype": "text/x-python",
   "name": "python",
   "nbconvert_exporter": "python",
   "pygments_lexer": "ipython3",
   "version": "3.11.2"
  },
  "orig_nbformat": 4
 },
 "nbformat": 4,
 "nbformat_minor": 2
}
