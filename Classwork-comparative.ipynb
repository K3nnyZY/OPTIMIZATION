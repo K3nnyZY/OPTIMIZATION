{
 "cells": [
  {
   "cell_type": "code",
   "execution_count": 59,
   "metadata": {},
   "outputs": [],
   "source": [
    "import numpy as np\n",
    "import time as ti\n",
    "import scipy.sparse as spa\n",
    "import scipy.sparse.linalg as las"
   ]
  },
  {
   "cell_type": "code",
   "execution_count": 60,
   "metadata": {},
   "outputs": [],
   "source": [
    "def fun_f_a(x,n):\n",
    "  f = np.sum([100*(x[i+1]-x[i]**2)**2+(x[i]-1)**2 for i in range(0,n-1)])\n",
    "  return f\n",
    "\n",
    "def fun_g_a(x,n):\n",
    "  g = np.zeros(n)\n",
    "  g[1:] = -200*np.power(x[:-1],2)\n",
    "  g[:-1]+=-400*x[:-1]*(-np.power(x[:-1],2)+x[1:])\n",
    "  g[1:-1]+=202*x[1:-1]\n",
    "  g[0]+=2*x[0]\n",
    "  g[-1]+=200*x[-1]\n",
    "  g[:-1]+=-2\n",
    "  return g\n",
    "\n",
    "def fun_H_a(x,n):\n",
    "  ds = np.array([-400*x[i] for i in range(0,n-1)])\n",
    "  dp = np.zeros(n)\n",
    "  dp[:-1] = np.array([1200*x[i]**2-400*x[i+1] for i in range(0,n-1)])\n",
    "  dp[-1] = 200\n",
    "  dp[1:-1]+=202\n",
    "  dp[0]+=2\n",
    "  ind = np.arange(0,n)\n",
    "  I = np.concatenate((ind,ind[:-1],ind[:-1]+1))\n",
    "  J = np.concatenate((ind,ind[:-1]+1,ind[:-1]))\n",
    "  V = np.concatenate((dp,ds,ds))\n",
    "  H = spa.coo_matrix((V,(I,J)))\n",
    "  return H"
   ]
  },
  {
   "cell_type": "code",
   "execution_count": 61,
   "metadata": {},
   "outputs": [],
   "source": [
    "def alpha_estimate_spa(xk,d_k,M):\n",
    "  a = 0; b = 1; n = len(xk)\n",
    "  for k in range(0,M):\n",
    "    alp = np.linspace(a,b,num=5,endpoint=True)\n",
    "    alp1 = alp[1]\n",
    "    alp2 = alp[2]\n",
    "    alp3 = alp[3]\n",
    "    xk1 = xk+alp1*d_k\n",
    "    xk2 = xk+alp2*d_k\n",
    "    xk3 = xk+alp3*d_k\n",
    "    f1 = fun_f_a(xk1,n)\n",
    "    f2 = fun_f_a(xk2,n)\n",
    "    f3 = fun_f_a(xk3,n)\n",
    "    pos = np.argmin([f1,f2,f3])+1\n",
    "    a = alp[pos-1]\n",
    "    b = alp[pos+1]\n",
    "  return (a+b)/2"
   ]
  },
  {
   "cell_type": "code",
   "execution_count": 62,
   "metadata": {},
   "outputs": [],
   "source": [
    "def newton_optimization(n, initial_point, max_iter=50):\n",
    "    xk = initial_point.copy()\n",
    "    times_k = []\n",
    "    norm_gk = []\n",
    "    \n",
    "    for k in range(max_iter):\n",
    "        Hk = fun_H_a(xk, n)  # Calcula el Hessiano en el punto xk\n",
    "        gk = fun_g_a(xk, n)  # Calcula el gradiente en el punto xk\n",
    "        norm_gk.append(np.linalg.norm(gk))\n",
    "        \n",
    "        start_time = ti.time()\n",
    "        dxk = las.spsolve(Hk, -gk)  # Resuelve el sistema lineal\n",
    "        end_time = ti.time()\n",
    "        \n",
    "        times_k.append(end_time - start_time)  # Guarda el tiempo de ejecución para esta iteración\n",
    "        \n",
    "        alpha_opt = alpha_estimate_spa(xk, dxk, 20)  # Estima el mejor valor de alpha\n",
    "        xk = xk + alpha_opt * dxk  # Actualiza el punto actual\n",
    "    \n",
    "    return times_k, norm_gk  # Devuelve la solución, los tiempos de cada iteración, y las normas del gradiente"
   ]
  },
  {
   "cell_type": "code",
   "execution_count": 63,
   "metadata": {},
   "outputs": [
    {
     "name": "stdout",
     "output_type": "stream",
     "text": [
      "Execution times: [0.0, 0.0010113716125488281, 0.0, 0.0, 0.0010008811950683594, 0.0009999275207519531, 0.001001119613647461, 0.0, 0.0, 0.0010068416595458984, 0.0010089874267578125, 0.001005411148071289, 0.001005411148071289, 0.0, 0.0, 0.001001119613647461, 0.0010073184967041016, 0.0, 0.0, 0.0, 0.0, 0.0009996891021728516, 0.0, 0.0010046958923339844, 0.0010123252868652344, 0.0, 0.0010066032409667969, 0.0, 0.0, 0.001007080078125, 0.0, 0.0, 0.0010008811950683594, 0.0, 0.0010051727294921875, 0.0, 0.0, 0.0010008811950683594, 0.0010006427764892578, 0.0010089874267578125, 0.0, 0.0, 0.0010044574737548828, 0.0010213851928710938, 0.001001119613647461, 0.0, 0.0, 0.0, 0.0, 0.0]\n",
      "Gradient norms: [1138244.0651881301, 336020.93500914285, 278964.09310751426, 28787.15841720946, 57695.23318264561, 3021.0429103776737, 7875.2016690855435, 495.4779510019921, 1280.482323341318, 53.22391251838089, 237.62243663517472, 114.71375040918196, 199.80434771663153, 93.2157286999676, 165.68580722112523, 78.03533468592511, 136.5702855355438, 63.334395902776926, 110.49122911073493, 50.774031117569386, 87.8201396716347, 39.75479767865392, 68.23023208994293, 30.333675436753254, 51.583938949098425, 22.37425898493363, 37.675766080122365, 15.787733504864304, 26.300727920500776, 10.466358959928689, 17.23086879829025, 6.303423547633523, 10.216527529602631, 3.1972630154506474, 4.990543629726173, 1.08879589106443, 1.368807122879091, 0.078830780906357, 0.01586901687311221, 1.0850280830315756e-05, 3.343093661892945e-10, 1.530555893832145e-13, 1.556721137788958e-13, 1.530555893832145e-13, 0.0, 0.0, 0.0, 0.0, 0.0, 0.0]\n"
     ]
    }
   ],
   "source": [
    "# Ejemplo de uso:\n",
    "n = 10**3\n",
    "initial_point = 5 * np.ones(n)\n",
    "times, gradients = newton_optimization(n, initial_point)\n",
    "\n",
    "print(\"Execution times:\", times)\n",
    "print(\"Gradient norms:\", gradients)"
   ]
  }
 ],
 "metadata": {
  "kernelspec": {
   "display_name": "Python 3",
   "language": "python",
   "name": "python3"
  },
  "language_info": {
   "codemirror_mode": {
    "name": "ipython",
    "version": 3
   },
   "file_extension": ".py",
   "mimetype": "text/x-python",
   "name": "python",
   "nbconvert_exporter": "python",
   "pygments_lexer": "ipython3",
   "version": "3.11.4"
  }
 },
 "nbformat": 4,
 "nbformat_minor": 2
}
