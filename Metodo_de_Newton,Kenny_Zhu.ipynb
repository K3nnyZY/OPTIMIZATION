{
  "cells": [
    {
      "cell_type": "code",
      "execution_count": 3,
      "metadata": {
        "id": "tHKtbEsYVqE7"
      },
      "outputs": [],
      "source": [
        "import sympy as sp\n",
        "import numpy as np\n",
        "import sympy.plotting as pls\n",
        "import matplotlib.pyplot as plt\n",
        "from sympy.parsing.sympy_parser import parse_expr\n",
        "from IPython.display import Latex, display\n",
        "import pandas as pd"
      ]
    },
    {
      "cell_type": "markdown",
      "metadata": {
        "id": "bfMGCQZagY-q"
      },
      "source": [
        "# IST720 - Optimización\n",
        "## Método de Newton\n",
        "Consideremos la función [Dixon-Price](https://www.sfu.ca/~ssurjano/dixonpr.html)"
      ]
    },
    {
      "cell_type": "markdown",
      "metadata": {
        "id": "4sLzoN5oSvz_"
      },
      "source": [
        "$$\n",
        "f(\\mathcal{x}) = (x_1 -1)^2 + \\sum_{i=2}^di(2x_i^2 - x_{i-1})^2\n",
        "$$"
      ]
    },
    {
      "cell_type": "code",
      "execution_count": 4,
      "metadata": {
        "id": "a9FZ9QykffnH"
      },
      "outputs": [],
      "source": [
        "def function(x,n):\n",
        "  s=(x[0]-1)**2\n",
        "  for i in range(n): s+=(i+1)*(2*x[i]**2-x[i-1])**2\n",
        "  return s"
      ]
    },
    {
      "cell_type": "code",
      "execution_count": 5,
      "metadata": {
        "id": "aoqui7E_f6eU"
      },
      "outputs": [],
      "source": [
        "def gradient(f,x,n):\n",
        "  g = sp.zeros(n,1)\n",
        "  for i in range(n):\n",
        "    g[i] = sp.diff(f,x[i])\n",
        "  return g"
      ]
    },
    {
      "cell_type": "code",
      "execution_count": 6,
      "metadata": {
        "id": "ph3IChEFf8zS"
      },
      "outputs": [],
      "source": [
        "def hessian(f,x,n):\n",
        "  H = sp.zeros(n)\n",
        "  for i in range(n):\n",
        "    for j in range(n):\n",
        "      H[i,j] = sp.diff(sp.diff(f,x[i]),x[j])\n",
        "  return H"
      ]
    },
    {
      "cell_type": "code",
      "execution_count": 7,
      "metadata": {
        "colab": {
          "base_uri": "https://localhost:8080/",
          "height": 381
        },
        "id": "Ocx9mVdEXMwi",
        "outputId": "9effda29-555f-4955-f910-ff10501f43ac"
      },
      "outputs": [
        {
          "name": "stdout",
          "output_type": "stream",
          "text": [
            "['x0', 'x1', 'x2', 'x3', 'x4']\n",
            "Matrix([[x0], [x1], [x2], [x3], [x4]])\n"
          ]
        },
        {
          "data": {
            "text/latex": [
              "${\\bf x} = \\left[\\begin{matrix}x_{0}\\\\x_{1}\\\\x_{2}\\\\x_{3}\\\\x_{4}\\end{matrix}\\right]$"
            ],
            "text/plain": [
              "<IPython.core.display.Latex object>"
            ]
          },
          "metadata": {},
          "output_type": "display_data"
        },
        {
          "data": {
            "text/latex": [
              "$f({\\bf x }) = 2 \\left(- x_{0} + 2 x_{1}^{2}\\right)^{2} + \\left(x_{0} - 1\\right)^{2} + \\left(2 x_{0}^{2} - x_{4}\\right)^{2} + 3 \\left(- x_{1} + 2 x_{2}^{2}\\right)^{2} + 4 \\left(- x_{2} + 2 x_{3}^{2}\\right)^{2} + 5 \\left(- x_{3} + 2 x_{4}^{2}\\right)^{2}$"
            ],
            "text/plain": [
              "<IPython.core.display.Latex object>"
            ]
          },
          "metadata": {},
          "output_type": "display_data"
        },
        {
          "data": {
            "text/latex": [
              "$\\nabla f({\\bf x }) = \\left[\\begin{matrix}8 x_{0} \\cdot \\left(2 x_{0}^{2} - x_{4}\\right) + 6 x_{0} - 8 x_{1}^{2} - 2\\\\16 x_{1} \\left(- x_{0} + 2 x_{1}^{2}\\right) + 6 x_{1} - 12 x_{2}^{2}\\\\24 x_{2} \\left(- x_{1} + 2 x_{2}^{2}\\right) + 8 x_{2} - 16 x_{3}^{2}\\\\32 x_{3} \\left(- x_{2} + 2 x_{3}^{2}\\right) + 10 x_{3} - 20 x_{4}^{2}\\\\- 4 x_{0}^{2} + 40 x_{4} \\left(- x_{3} + 2 x_{4}^{2}\\right) + 2 x_{4}\\end{matrix}\\right]$"
            ],
            "text/plain": [
              "<IPython.core.display.Latex object>"
            ]
          },
          "metadata": {},
          "output_type": "display_data"
        },
        {
          "data": {
            "text/latex": [
              "$\\nabla^2f({\\bf x }) = \\left[\\begin{matrix}48 x_{0}^{2} - 8 x_{4} + 6 & - 16 x_{1} & 0 & 0 & - 8 x_{0}\\\\- 16 x_{1} & - 16 x_{0} + 96 x_{1}^{2} + 6 & - 24 x_{2} & 0 & 0\\\\0 & - 24 x_{2} & - 24 x_{1} + 144 x_{2}^{2} + 8 & - 32 x_{3} & 0\\\\0 & 0 & - 32 x_{3} & - 32 x_{2} + 192 x_{3}^{2} + 10 & - 40 x_{4}\\\\- 8 x_{0} & 0 & 0 & - 40 x_{4} & - 40 x_{3} + 240 x_{4}^{2} + 2\\end{matrix}\\right]$"
            ],
            "text/plain": [
              "<IPython.core.display.Latex object>"
            ]
          },
          "metadata": {},
          "output_type": "display_data"
        }
      ],
      "source": [
        "n = 5\n",
        "xs = [f'x{i}' for i in range(n)]\n",
        "print(xs)\n",
        "x=sp.Matrix(xs)\n",
        "print(x)\n",
        "display(Latex('${\\\\bf x} = ' + sp.latex(x)+'$'))\n",
        "\n",
        "fx = function(x,n)\n",
        "display(Latex('$f({\\\\bf x }) = '+sp.latex(fx)+'$'))\n",
        "\n",
        "gx = gradient(fx,x,n)\n",
        "display(Latex('$\\\\nabla f({\\\\bf x }) = '+sp.latex(gx)+'$'))\n",
        "\n",
        "Hx = hessian(fx,x,n)\n",
        "display(Latex('$\\\\nabla^2f({\\\\bf x }) = '+sp.latex(Hx)+'$'))"
      ]
    },
    {
      "cell_type": "markdown",
      "metadata": {
        "id": "fhcs7ZGYrWVM"
      },
      "source": [
        "## Tarea\n",
        "Para la próxima clase implemente las funciones de Dixon-price, gradiente y la Hessiana de manera eficiente.\n",
        "\n",
        "**Hint:** Considere usar librerías como ``numpy``."
      ]
    },
    {
      "cell_type": "markdown",
      "metadata": {
        "id": "PHCh-OwOWMcs"
      },
      "source": [
        "Consideremos la funcion de Dixon-Price:\n",
        "$$\n",
        "f(\\mathcal{x}) = (x_1 -1)^2 + \\sum_{i=2}^di(2x_i^2 - x_{i-1})^2\n",
        "$$"
      ]
    },
    {
      "cell_type": "code",
      "execution_count": 8,
      "metadata": {
        "id": "k1FwjHQxVsx7"
      },
      "outputs": [],
      "source": [
        "def dixon_price(x):\n",
        "    \"\"\"Función de Dixon-Price.\"\"\"\n",
        "    n = len(x)\n",
        "\n",
        "    const_term = (x[0]-1)**2\n",
        "    sum_term = sum((i + 1) * (2 * x[i]**2 - x[i - 1])**2 for i in range(1, n))\n",
        "\n",
        "    return const_term + sum_term\n",
        "\n",
        "\n",
        "def gradient(x):\n",
        "    \"\"\"Calcula el gradiente de la función de Dixon-Price en un punto x.\"\"\"\n",
        "    n = len(x)\n",
        "    grad = np.zeros(n)\n",
        "\n",
        "    # Primera componente\n",
        "    grad[0] = 8 * x[0] * (2 * x[0]**2 - x[n-1]) + 6 * x[0] - 8 * x[1]**2 - 2\n",
        "\n",
        "    # Componentes intermedias\n",
        "    for i in range(1, n - 1):\n",
        "        grad[i] = 8*(i+1)*x[i]*(-x[i-1] + 2*x[i]**2) + 2*(i+2)*x[i] - 4*(i+2)*x[i+1]**2\n",
        "\n",
        "    # Última componente\n",
        "    grad[n - 1] = -4 * x[0]**2 + (n) * 8 * x[n - 1] * (-x[n - 2] + 2 * x[n - 1]**2) + 2 * x[n - 1]\n",
        "\n",
        "    return grad\n",
        "\n",
        "\n",
        "def hessian(x):\n",
        "    \"\"\"Calcula la Hessiana de la función de Dixon-Price en un punto x.\"\"\"\n",
        "    n = len(x)\n",
        "    hess = np.zeros((n, n))\n",
        "\n",
        "    # Primera fila\n",
        "    hess[0, 0] = 48 * x[0]**2 - 8 * x[n-1] + 6\n",
        "    hess[0, 1] = -16 * x[1]\n",
        "    hess[0, n-1] = -8 * x[0]\n",
        "\n",
        "    # Filas intermedias\n",
        "    for i in range(1, n):\n",
        "        hess[i, i - 1] = -8*(i+1)*x[i]\n",
        "        hess[i, i] =  -8*(i+1)*x[i-1] + 48*(i+1)*x[i]**2 + 2*(i+2)\n",
        "        hess[i-1, i] = -8*(i+1)*x[i]\n",
        "\n",
        "    # Última fila\n",
        "    hess[n - 1, 0] = -8 * x[0]\n",
        "    hess[n - 1, n - 2] = -8*n*x[n - 1]\n",
        "    hess[n - 1, n - 1] = -8*n*x[n - 2] + 48*n*x[n-1]**2 + 2\n",
        "\n",
        "    return hess"
      ]
    },
    {
      "cell_type": "code",
      "execution_count": 9,
      "metadata": {
        "colab": {
          "base_uri": "https://localhost:8080/",
          "height": 58
        },
        "id": "ysWgjGBrh-Cz",
        "outputId": "97d26feb-570e-4daa-cc0a-9120f14cb827"
      },
      "outputs": [
        {
          "data": {
            "text/latex": [
              "$f({\\bf x }) = 2 \\left(- x_{1} + 2 x_{2}^{2}\\right)^{2} + \\left(x_{1} - 1\\right)^{2} + 10 \\left(2 x_{10}^{2} - x_{9}\\right)^{2} + 3 \\left(- x_{2} + 2 x_{3}^{2}\\right)^{2} + 4 \\left(- x_{3} + 2 x_{4}^{2}\\right)^{2} + 5 \\left(- x_{4} + 2 x_{5}^{2}\\right)^{2} + 6 \\left(- x_{5} + 2 x_{6}^{2}\\right)^{2} + 7 \\left(- x_{6} + 2 x_{7}^{2}\\right)^{2} + 8 \\left(- x_{7} + 2 x_{8}^{2}\\right)^{2} + 9 \\left(- x_{8} + 2 x_{9}^{2}\\right)^{2}$"
            ],
            "text/plain": [
              "<IPython.core.display.Latex object>"
            ]
          },
          "metadata": {},
          "output_type": "display_data"
        },
        {
          "name": "stdout",
          "output_type": "stream",
          "text": [
            "\n"
          ]
        }
      ],
      "source": [
        "n = 10\n",
        "xs = [f'x{i}' for i in range(1,n+1)]\n",
        "xp=sp.Matrix(xs)\n",
        "\n",
        "fx = dixon_price(xp)\n",
        "display(Latex('$f({\\\\bf x }) = '+sp.latex(fx) + '$'))\n",
        "print(\"\")\n",
        "\n",
        "# Valores de x\n",
        "x = [1,1,1,1,1]\n",
        "\n",
        "# Evaluar\n",
        "fx = dixon_price(x)\n",
        "gx = gradient(x)\n",
        "Hx = hessian(x)\n",
        "\n",
        "# Crear DataFrames para fx, gx, Hx\n",
        "df_gx = pd.DataFrame(gx, columns=['Gradiente'])\n",
        "df_Hx = pd.DataFrame(Hx).style.set_caption(\"Matriz Hessiana\")"
      ]
    },
    {
      "cell_type": "code",
      "execution_count": 10,
      "metadata": {
        "colab": {
          "base_uri": "https://localhost:8080/",
          "height": 54
        },
        "id": "BByNambwSnJG",
        "outputId": "946d38f2-f34a-4a41-a8ab-d51a7f043e06"
      },
      "outputs": [
        {
          "name": "stdout",
          "output_type": "stream",
          "text": [
            "Los valores de x a utilizar son: \n",
            " [1, 1, 1, 1, 1]\n"
          ]
        },
        {
          "data": {
            "text/latex": [
              "$ \\text{El valor evaluado de la función es: }14$"
            ],
            "text/plain": [
              "<IPython.core.display.Latex object>"
            ]
          },
          "metadata": {},
          "output_type": "display_data"
        }
      ],
      "source": [
        "print(f'Los valores de x a utilizar son: \\n {x}')\n",
        "display(Latex('$ \\\\text{El valor evaluado de la función es: }' + sp.latex(fx)+'$'))"
      ]
    },
    {
      "cell_type": "code",
      "execution_count": 11,
      "metadata": {
        "colab": {
          "base_uri": "https://localhost:8080/",
          "height": 328
        },
        "id": "PH0vUvtjTFQZ",
        "outputId": "e1d80b4d-2a0a-45cc-e2f0-4dc971bf2449"
      },
      "outputs": [
        {
          "data": {
            "text/html": [
              "<div>\n",
              "<style scoped>\n",
              "    .dataframe tbody tr th:only-of-type {\n",
              "        vertical-align: middle;\n",
              "    }\n",
              "\n",
              "    .dataframe tbody tr th {\n",
              "        vertical-align: top;\n",
              "    }\n",
              "\n",
              "    .dataframe thead th {\n",
              "        text-align: right;\n",
              "    }\n",
              "</style>\n",
              "<table border=\"1\" class=\"dataframe\">\n",
              "  <thead>\n",
              "    <tr style=\"text-align: right;\">\n",
              "      <th></th>\n",
              "      <th>Gradiente</th>\n",
              "    </tr>\n",
              "  </thead>\n",
              "  <tbody>\n",
              "    <tr>\n",
              "      <th>0</th>\n",
              "      <td>4.0</td>\n",
              "    </tr>\n",
              "    <tr>\n",
              "      <th>1</th>\n",
              "      <td>10.0</td>\n",
              "    </tr>\n",
              "    <tr>\n",
              "      <th>2</th>\n",
              "      <td>16.0</td>\n",
              "    </tr>\n",
              "    <tr>\n",
              "      <th>3</th>\n",
              "      <td>22.0</td>\n",
              "    </tr>\n",
              "    <tr>\n",
              "      <th>4</th>\n",
              "      <td>38.0</td>\n",
              "    </tr>\n",
              "  </tbody>\n",
              "</table>\n",
              "</div>"
            ],
            "text/plain": [
              "   Gradiente\n",
              "0        4.0\n",
              "1       10.0\n",
              "2       16.0\n",
              "3       22.0\n",
              "4       38.0"
            ]
          },
          "metadata": {},
          "output_type": "display_data"
        }
      ],
      "source": [
        "display(df_gx)"
      ]
    },
    {
      "cell_type": "code",
      "execution_count": 12,
      "metadata": {
        "colab": {
          "base_uri": "https://localhost:8080/",
          "height": 345
        },
        "id": "8hKocVKsTNIy",
        "outputId": "1c16de58-3106-4b95-f1a8-e41898321750"
      },
      "outputs": [
        {
          "data": {
            "text/html": [
              "<style type=\"text/css\">\n",
              "</style>\n",
              "<table id=\"T_54f19\">\n",
              "  <caption>Matriz Hessiana</caption>\n",
              "  <thead>\n",
              "    <tr>\n",
              "      <th class=\"blank level0\" >&nbsp;</th>\n",
              "      <th id=\"T_54f19_level0_col0\" class=\"col_heading level0 col0\" >0</th>\n",
              "      <th id=\"T_54f19_level0_col1\" class=\"col_heading level0 col1\" >1</th>\n",
              "      <th id=\"T_54f19_level0_col2\" class=\"col_heading level0 col2\" >2</th>\n",
              "      <th id=\"T_54f19_level0_col3\" class=\"col_heading level0 col3\" >3</th>\n",
              "      <th id=\"T_54f19_level0_col4\" class=\"col_heading level0 col4\" >4</th>\n",
              "    </tr>\n",
              "  </thead>\n",
              "  <tbody>\n",
              "    <tr>\n",
              "      <th id=\"T_54f19_level0_row0\" class=\"row_heading level0 row0\" >0</th>\n",
              "      <td id=\"T_54f19_row0_col0\" class=\"data row0 col0\" >46.000000</td>\n",
              "      <td id=\"T_54f19_row0_col1\" class=\"data row0 col1\" >-16.000000</td>\n",
              "      <td id=\"T_54f19_row0_col2\" class=\"data row0 col2\" >0.000000</td>\n",
              "      <td id=\"T_54f19_row0_col3\" class=\"data row0 col3\" >0.000000</td>\n",
              "      <td id=\"T_54f19_row0_col4\" class=\"data row0 col4\" >-8.000000</td>\n",
              "    </tr>\n",
              "    <tr>\n",
              "      <th id=\"T_54f19_level0_row1\" class=\"row_heading level0 row1\" >1</th>\n",
              "      <td id=\"T_54f19_row1_col0\" class=\"data row1 col0\" >-16.000000</td>\n",
              "      <td id=\"T_54f19_row1_col1\" class=\"data row1 col1\" >86.000000</td>\n",
              "      <td id=\"T_54f19_row1_col2\" class=\"data row1 col2\" >-24.000000</td>\n",
              "      <td id=\"T_54f19_row1_col3\" class=\"data row1 col3\" >0.000000</td>\n",
              "      <td id=\"T_54f19_row1_col4\" class=\"data row1 col4\" >0.000000</td>\n",
              "    </tr>\n",
              "    <tr>\n",
              "      <th id=\"T_54f19_level0_row2\" class=\"row_heading level0 row2\" >2</th>\n",
              "      <td id=\"T_54f19_row2_col0\" class=\"data row2 col0\" >0.000000</td>\n",
              "      <td id=\"T_54f19_row2_col1\" class=\"data row2 col1\" >-24.000000</td>\n",
              "      <td id=\"T_54f19_row2_col2\" class=\"data row2 col2\" >128.000000</td>\n",
              "      <td id=\"T_54f19_row2_col3\" class=\"data row2 col3\" >-32.000000</td>\n",
              "      <td id=\"T_54f19_row2_col4\" class=\"data row2 col4\" >0.000000</td>\n",
              "    </tr>\n",
              "    <tr>\n",
              "      <th id=\"T_54f19_level0_row3\" class=\"row_heading level0 row3\" >3</th>\n",
              "      <td id=\"T_54f19_row3_col0\" class=\"data row3 col0\" >0.000000</td>\n",
              "      <td id=\"T_54f19_row3_col1\" class=\"data row3 col1\" >0.000000</td>\n",
              "      <td id=\"T_54f19_row3_col2\" class=\"data row3 col2\" >-32.000000</td>\n",
              "      <td id=\"T_54f19_row3_col3\" class=\"data row3 col3\" >170.000000</td>\n",
              "      <td id=\"T_54f19_row3_col4\" class=\"data row3 col4\" >-40.000000</td>\n",
              "    </tr>\n",
              "    <tr>\n",
              "      <th id=\"T_54f19_level0_row4\" class=\"row_heading level0 row4\" >4</th>\n",
              "      <td id=\"T_54f19_row4_col0\" class=\"data row4 col0\" >-8.000000</td>\n",
              "      <td id=\"T_54f19_row4_col1\" class=\"data row4 col1\" >0.000000</td>\n",
              "      <td id=\"T_54f19_row4_col2\" class=\"data row4 col2\" >0.000000</td>\n",
              "      <td id=\"T_54f19_row4_col3\" class=\"data row4 col3\" >-40.000000</td>\n",
              "      <td id=\"T_54f19_row4_col4\" class=\"data row4 col4\" >202.000000</td>\n",
              "    </tr>\n",
              "  </tbody>\n",
              "</table>\n"
            ],
            "text/plain": [
              "<pandas.io.formats.style.Styler at 0x15e7c2010>"
            ]
          },
          "metadata": {},
          "output_type": "display_data"
        }
      ],
      "source": [
        "display(df_Hx)"
      ]
    }
  ],
  "metadata": {
    "colab": {
      "provenance": []
    },
    "kernelspec": {
      "display_name": "Python 3",
      "name": "python3"
    },
    "language_info": {
      "codemirror_mode": {
        "name": "ipython",
        "version": 3
      },
      "file_extension": ".py",
      "mimetype": "text/x-python",
      "name": "python",
      "nbconvert_exporter": "python",
      "pygments_lexer": "ipython3",
      "version": "3.11.2"
    }
  },
  "nbformat": 4,
  "nbformat_minor": 0
}
